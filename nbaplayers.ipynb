{
 "cells": [
  {
   "cell_type": "markdown",
   "metadata": {},
   "source": [
    "# Classification of NBA players"
   ]
  },
  {
   "cell_type": "markdown",
   "metadata": {},
   "source": [
    "## Loading the Data\n",
    "\n",
    "First, we load the standard packages."
   ]
  },
  {
   "cell_type": "code",
   "execution_count": 166,
   "metadata": {
    "collapsed": true
   },
   "outputs": [],
   "source": [
    "import numpy as np\n",
    "import matplotlib\n",
    "import matplotlib.pyplot as plt\n",
    "import pandas as pd\n",
    "%matplotlib inline"
   ]
  },
  {
   "cell_type": "markdown",
   "metadata": {},
   "source": [
    "I have downloaded the data from https://www.basketball-reference.com"
   ]
  },
  {
   "cell_type": "code",
   "execution_count": 217,
   "metadata": {},
   "outputs": [
    {
     "name": "stdout",
     "output_type": "stream",
     "text": [
      "                                  Rk Pos  Age   Tm   G  GS    MP   FG   FGA  \\\n",
      "Player                                                                        \n",
      "Russell Westbrook\\westbru01        1  PG   28  OKC  81  81  2802  824  1941   \n",
      "James Harden\\hardeja01             2  PG   27  HOU  81  81  2947  674  1533   \n",
      "Isaiah Thomas\\thomais02            3  PG   27  BOS  76  76  2569  682  1473   \n",
      "Anthony Davis\\davisan02            4   C   23  NOP  75  75  2708  770  1526   \n",
      "Karl-Anthony Towns\\townska01       5   C   21  MIN  82  82  3030  802  1480   \n",
      "Damian Lillard\\lillada01           6  PG   26  POR  75  75  2694  661  1488   \n",
      "DeMar DeRozan\\derozde01            7  SG   27  TOR  74  74  2620  721  1545   \n",
      "Stephen Curry\\curryst01            8  PG   28  GSW  79  79  2638  675  1443   \n",
      "LeBron James\\jamesle01             9  SF   32  CLE  74  74  2794  736  1344   \n",
      "DeMarcus Cousins\\couside01        10   C   26  TOT  72  72  2465  647  1432   \n",
      "Andrew Wiggins\\wiggian01          11  SF   21  MIN  82  82  3048  709  1570   \n",
      "Kawhi Leonard\\leonaka01           12  SF   25  SAS  74  74  2474  636  1312   \n",
      "C.J. McCollum\\mccolcj01           13  SG   25  POR  80  80  2796  692  1441   \n",
      "Giannis Antetokounmpo\\antetgi01   14  SF   22  MIL  80  80  2845  656  1259   \n",
      "Kemba Walker\\walkeke02            15  PG   26  CHO  79  79  2739  643  1449   \n",
      "Jimmy Butler\\butleji01            16  SF   27  CHI  76  75  2809  570  1252   \n",
      "Kyrie Irving\\irvinky01            17  PG   24  CLE  72  72  2525  671  1420   \n",
      "John Wall\\walljo01                18  PG   26  WAS  78  78  2836  647  1435   \n",
      "Bradley Beal\\bealbr01             19  SG   23  WAS  77  77  2684  637  1322   \n",
      "Paul George\\georgpa01             20  SF   26  IND  75  75  2689  622  1348   \n",
      "Klay Thompson\\thompkl01           21  SG   26  GSW  78  78  2649  644  1376   \n",
      "Devin Booker\\bookede01            22  SG   20  PHO  78  78  2730  606  1431   \n",
      "Carmelo Anthony\\anthoca01         23  SF   32  NYK  74  74  2538  602  1389   \n",
      "Gordon Hayward\\haywago01          24  SF   26  UTA  73  73  2516  545  1156   \n",
      "Kevin Durant\\duranke01            25  SF   28  GSW  62  62  2070  551  1026   \n",
      "Brook Lopez\\lopezbr01             26   C   28  BRK  75  75  2222  555  1172   \n",
      "Harrison Barnes\\barneha02         27  PF   24  DAL  79  79  2803  599  1280   \n",
      "Goran Dragic\\dragigo01            28  PG   30  MIA  73  73  2459  534  1124   \n",
      "Marc Gasol\\gasolma01              29   C   32  MEM  74  74  2531  532  1160   \n",
      "Lou Williams\\willilo02            30  SG   30  TOT  81   1  1994  428   998   \n",
      "...                              ...  ..  ...  ...  ..  ..   ...  ...   ...   \n",
      "Jordan Farmar\\farmajo01          457  PG   30  SAC   2   0    35    4    12   \n",
      "Justin Harper\\harpeju01          458  PF   27  PHI   3   0    31    5    12   \n",
      "Jordan Hill\\hilljo01             459   C   29  MIN   7   0    47    5    13   \n",
      "Alonzo Gee\\geeal01               460  SF   29  DEN  13   0    89    3    14   \n",
      "Axel Toupane\\toupaax01           461  SF   24  TOT   4   0    47    5     9   \n",
      "Demetrius Jackson\\jacksde01      462  PG   22  BOS   5   0    17    3     4   \n",
      "Diamond Stone\\stonedi01          463   C   19  LAC   7   0    24    3    13   \n",
      "Dahntay Jones\\jonesda02          464  SF   36  CLE   1   0    12    3     8   \n",
      "Lamar Patterson\\pattela01        465  SG   25  ATL   5   0    40    3    15   \n",
      "Manny Harris\\harrima01           466  SG   27  DAL   4   0    25    3    15   \n",
      "Edy Tavares\\tavarwa01            467   C   24  TOT   2   0    28    4     5   \n",
      "John Jenkins\\jenkijo01           468  SG   25  PHO   4   0    13    2     5   \n",
      "Greivis Vasquez\\vasqugr01        469  PG   30  BRK   3   0    39    2     8   \n",
      "Jarrett Jack\\jackja01            470  PG   33  NOP   2   0    33    2     3   \n",
      "Steve Novak\\novakst01            471  PF   33  MIL   8   0    22    2     7   \n",
      "Michael Gbinije\\gbinimi01        472  SG   24  DET   9   0    32    1    10   \n",
      "Brice Johnson\\johnsbr02          473  PF   22  LAC   3   0     9    2     7   \n",
      "Gary Neal\\nealga01               474  SG   32  ATL   2   0    18    0     7   \n",
      "Arinze Onuaku\\onuakar01          475   C   29  ORL   8   0    28    2     4   \n",
      "Larry Sanders\\sandela01          476   C   28  CLE   5   0    13    1     4   \n",
      "Elijah Millsap\\millsel01         477  SG   29  PHO   2   0    23    1     7   \n",
      "Jarnell Stokes\\stokeja01         478   C   23  DEN   2   0     7    1     1   \n",
      "Isaiah Taylor\\taylois01          479  PG   22  HOU   4   0    52    1     7   \n",
      "John Lucas III\\lucasjo02         480  PG   34  MIN   5   0    11    1     4   \n",
      "Mike Tobey\\tobeymi01             481   C   22  CHO   2   0    25    1     4   \n",
      "Aaron Harrison\\harriaa01         482  SG   22  CHO   5   0    17    0     4   \n",
      "Ben Bentil\\bentibe01             483  PF   21  DAL   3   0    10    0     3   \n",
      "Patricio Garino\\garinpa01        484  SG   23  ORL   5   0    43    0     7   \n",
      "Danuel House\\houseda01           485  SG   23  WAS   1   0     1    0     0   \n",
      "R.J. Hunter\\hunterj01            486  SG   23  CHI   3   0     9    0     1   \n",
      "\n",
      "                                   FG%  ...     FT%  ORB  DRB   TRB  AST  STL  \\\n",
      "Player                                  ...                                     \n",
      "Russell Westbrook\\westbru01      0.425  ...   0.845  137  727   864  840  132   \n",
      "James Harden\\hardeja01           0.440  ...   0.847   95  564   659  907  121   \n",
      "Isaiah Thomas\\thomais02          0.463  ...   0.909   43  162   205  448   70   \n",
      "Anthony Davis\\davisan02          0.505  ...   0.802  172  712   884  157   94   \n",
      "Karl-Anthony Towns\\townska01     0.542  ...   0.832  296  711  1007  220   56   \n",
      "Damian Lillard\\lillada01         0.444  ...   0.895   46  322   368  440   68   \n",
      "DeMar DeRozan\\derozde01          0.467  ...   0.842   70  316   386  290   78   \n",
      "Stephen Curry\\curryst01          0.468  ...   0.898   61  292   353  524  142   \n",
      "LeBron James\\jamesle01           0.548  ...   0.674   97  542   639  646   92   \n",
      "DeMarcus Cousins\\couside01       0.452  ...   0.772  152  642   794  332  100   \n",
      "Andrew Wiggins\\wiggian01         0.452  ...   0.760  102  226   328  189   82   \n",
      "Kawhi Leonard\\leonaka01          0.485  ...   0.880   80  350   430  260  133   \n",
      "C.J. McCollum\\mccolcj01          0.480  ...   0.912   60  229   289  285   72   \n",
      "Giannis Antetokounmpo\\antetgi01  0.521  ...   0.770  142  558   700  434  131   \n",
      "Kemba Walker\\walkeke02           0.444  ...   0.847   45  263   308  434   85   \n",
      "Jimmy Butler\\butleji01           0.455  ...   0.865  129  341   470  417  143   \n",
      "Kyrie Irving\\irvinky01           0.473  ...   0.905   52  178   230  418   83   \n",
      "John Wall\\walljo01               0.451  ...   0.801   59  267   326  831  157   \n",
      "Bradley Beal\\bealbr01            0.482  ...   0.825   53  187   240  267   83   \n",
      "Paul George\\georgpa01            0.461  ...   0.898   58  434   492  251  119   \n",
      "Klay Thompson\\thompkl01          0.468  ...   0.853   49  236   285  160   66   \n",
      "Devin Booker\\bookede01           0.423  ...   0.832   46  203   249  268   72   \n",
      "Carmelo Anthony\\anthoca01        0.433  ...   0.833   62  376   438  213   60   \n",
      "Gordon Hayward\\haywago01         0.471  ...   0.844   49  345   394  252   73   \n",
      "Kevin Durant\\duranke01           0.537  ...   0.875   39  474   513  300   66   \n",
      "Brook Lopez\\lopezbr01            0.474  ...   0.810  121  282   403  176   38   \n",
      "Harrison Barnes\\barneha02        0.468  ...   0.861   93  301   394  116   65   \n",
      "Goran Dragic\\dragigo01           0.475  ...   0.790   62  217   279  423   89   \n",
      "Marc Gasol\\gasolma01             0.459  ...   0.837   60  404   464  338   67   \n",
      "Lou Williams\\willilo02           0.429  ...   0.880   26  176   202  239   80   \n",
      "...                                ...  ...     ...  ...  ...   ...  ...  ...   \n",
      "Jordan Farmar\\farmajo01          0.333  ...   0.000    1    2     3    9    2   \n",
      "Justin Harper\\harpeju01          0.417  ...   0.000    2    3     5    2    0   \n",
      "Jordan Hill\\hilljo01             0.385  ...   1.000    8    6    14    0    1   \n",
      "Alonzo Gee\\geeal01               0.214  ...   0.556    4   11    15    6    5   \n",
      "Axel Toupane\\toupaax01           0.556  ...   0.000    0    1     1    0    1   \n",
      "Demetrius Jackson\\jacksde01      0.750  ...   0.500    2    2     4    3    0   \n",
      "Diamond Stone\\stonedi01          0.231  ...   1.000    1    5     6    0    0   \n",
      "Dahntay Jones\\jonesda02          0.375  ...   0.750    1    1     2    1    0   \n",
      "Lamar Patterson\\pattela01        0.200  ...   0.667    1    6     7    6    1   \n",
      "Manny Harris\\harrima01           0.200  ...   0.500    3    6     9    2    0   \n",
      "Edy Tavares\\tavarwa01            0.800  ...   0.000    4    7    11    1    0   \n",
      "John Jenkins\\jenkijo01           0.400  ...   1.000    0    1     1    1    0   \n",
      "Greivis Vasquez\\vasqugr01        0.250  ...   0.667    0    2     2    5    1   \n",
      "Jarrett Jack\\jackja01            0.667  ...   1.000    0    0     0    5    2   \n",
      "Steve Novak\\novakst01            0.286  ...   0.000    0    3     3    0    0   \n",
      "Michael Gbinije\\gbinimi01        0.100  ...   1.000    2    1     3    2    0   \n",
      "Brice Johnson\\johnsbr02          0.286  ...   0.000    1    2     3    1    2   \n",
      "Gary Neal\\nealga01               0.000  ...   1.000    0    1     1    1    0   \n",
      "Arinze Onuaku\\onuakar01          0.500  ...   0.000    2    4     6    2    0   \n",
      "Larry Sanders\\sandela01          0.250  ...   1.000    3    1     4    0    1   \n",
      "Elijah Millsap\\millsel01         0.143  ...   0.500    3    3     6    1    0   \n",
      "Jarnell Stokes\\stokeja01         1.000  ...   0.500    1    1     2    2    1   \n",
      "Isaiah Taylor\\taylois01          0.143  ...   0.500    1    2     3    3    1   \n",
      "John Lucas III\\lucasjo02         0.250  ...   0.000    0    0     0    1    2   \n",
      "Mike Tobey\\tobeymi01             0.250  ...   0.000    2    1     3    1    0   \n",
      "Aaron Harrison\\harriaa01         0.000  ...   0.500    0    3     3    3    0   \n",
      "Ben Bentil\\bentibe01             0.000  ...   0.000    0    2     2    0    0   \n",
      "Patricio Garino\\garinpa01        0.000  ...   0.000    1    6     7    0    0   \n",
      "Danuel House\\houseda01           0.000  ...   0.000    0    1     1    0    0   \n",
      "R.J. Hunter\\hunterj01            0.000  ...   0.000    0    1     1    0    0   \n",
      "\n",
      "                                 BLK  TOV   PF  PTS▼  \n",
      "Player                                                \n",
      "Russell Westbrook\\westbru01       31  438  190  2558  \n",
      "James Harden\\hardeja01            38  464  215  2356  \n",
      "Isaiah Thomas\\thomais02           13  210  167  2199  \n",
      "Anthony Davis\\davisan02          167  181  168  2099  \n",
      "Karl-Anthony Towns\\townska01     103  212  241  2061  \n",
      "Damian Lillard\\lillada01          20  197  152  2024  \n",
      "DeMar DeRozan\\derozde01           13  180  134  2020  \n",
      "Stephen Curry\\curryst01           17  239  183  1999  \n",
      "LeBron James\\jamesle01            44  303  134  1954  \n",
      "DeMarcus Cousins\\couside01        93  269  278  1942  \n",
      "Andrew Wiggins\\wiggian01          30  187  183  1933  \n",
      "Kawhi Leonard\\leonaka01           55  154  122  1888  \n",
      "C.J. McCollum\\mccolcj01           42  172  202  1837  \n",
      "Giannis Antetokounmpo\\antetgi01  151  234  246  1832  \n",
      "Kemba Walker\\walkeke02            22  168  119  1830  \n",
      "Jimmy Butler\\butleji01            32  159  112  1816  \n",
      "Kyrie Irving\\irvinky01            24  180  157  1816  \n",
      "John Wall\\walljo01                49  322  151  1805  \n",
      "Bradley Beal\\bealbr01             21  156  169  1779  \n",
      "Paul George\\georgpa01             27  220  206  1775  \n",
      "Klay Thompson\\thompkl01           40  128  139  1742  \n",
      "Devin Booker\\bookede01            21  241  242  1726  \n",
      "Carmelo Anthony\\anthoca01         34  153  198  1659  \n",
      "Gordon Hayward\\haywago01          20  140  117  1601  \n",
      "Kevin Durant\\duranke01            99  138  117  1555  \n",
      "Brook Lopez\\lopezbr01            124  184  192  1539  \n",
      "Harrison Barnes\\barneha02         15  102  128  1518  \n",
      "Goran Dragic\\dragigo01            13  212  199  1483  \n",
      "Marc Gasol\\gasolma01              99  166  171  1446  \n",
      "Lou Williams\\willilo02            20  160   92  1421  \n",
      "...                              ...  ...  ...   ...  \n",
      "Jordan Farmar\\farmajo01            0    3    1    12  \n",
      "Justin Harper\\harpeju01            0    4    2    12  \n",
      "Jordan Hill\\hilljo01               0    4    9    12  \n",
      "Alonzo Gee\\geeal01                 1    4   14    11  \n",
      "Axel Toupane\\toupaax01             1    0    6    11  \n",
      "Demetrius Jackson\\jacksde01        0    0    0    10  \n",
      "Diamond Stone\\stonedi01            1    2    5    10  \n",
      "Dahntay Jones\\jonesda02            0    1    1     9  \n",
      "Lamar Patterson\\pattela01          0    4    6     9  \n",
      "Manny Harris\\harrima01             0    2    1     8  \n",
      "Edy Tavares\\tavarwa01              6    2    3     8  \n",
      "John Jenkins\\jenkijo01             0    0    0     7  \n",
      "Greivis Vasquez\\vasqugr01          1    1    6     7  \n",
      "Jarrett Jack\\jackja01              0    3    4     6  \n",
      "Steve Novak\\novakst01              0    0    1     5  \n",
      "Michael Gbinije\\gbinimi01          0    0    2     4  \n",
      "Brice Johnson\\johnsbr02            1    1    0     4  \n",
      "Gary Neal\\nealga01                 0    0    1     4  \n",
      "Arinze Onuaku\\onuakar01            1    2    3     4  \n",
      "Larry Sanders\\sandela01            1    2    5     4  \n",
      "Elijah Millsap\\millsel01           0    2    2     3  \n",
      "Jarnell Stokes\\stokeja01           0    0    3     3  \n",
      "Isaiah Taylor\\taylois01            1    0    6     3  \n",
      "John Lucas III\\lucasjo02           0    0    0     2  \n",
      "Mike Tobey\\tobeymi01               0    1    2     2  \n",
      "Aaron Harrison\\harriaa01           0    0    2     1  \n",
      "Ben Bentil\\bentibe01               0    1    1     0  \n",
      "Patricio Garino\\garinpa01          0    3    4     0  \n",
      "Danuel House\\houseda01             0    0    0     0  \n",
      "R.J. Hunter\\hunterj01              0    0    0     0  \n",
      "\n",
      "[486 rows x 29 columns]\n"
     ]
    }
   ],
   "source": [
    "from sklearn import linear_model, preprocessing\n",
    "\n",
    "sstat = pd.read_csv('playertotal.csv',index_col=1)\n",
    "ss = sstat.fillna(0)\n",
    "print(ss)"
   ]
  },
  {
   "cell_type": "markdown",
   "metadata": {},
   "source": [
    "## Trying a Logistic Regression Classifier"
   ]
  },
  {
   "cell_type": "code",
   "execution_count": 218,
   "metadata": {},
   "outputs": [],
   "source": [
    "ytr=ss['Pos']\n",
    "xtr=ss[['FG','FGA','FG%','3P','3PA','3P%','2P','2PA','2P%','eFG%','FT','FTA','FT%','ORB','DRB','TRB','AST','STL','BLK','TOV','PF','PTS▼']]"
   ]
  },
  {
   "cell_type": "code",
   "execution_count": 234,
   "metadata": {},
   "outputs": [
    {
     "name": "stdout",
     "output_type": "stream",
     "text": [
      "[LibLinear]"
     ]
    },
    {
     "data": {
      "text/plain": [
       "LogisticRegression(C=1.0, class_weight=None, dual=False, fit_intercept=True,\n",
       "          intercept_scaling=1, max_iter=100, multi_class='ovr', n_jobs=1,\n",
       "          penalty='l2', random_state=None, solver='liblinear', tol=0.0001,\n",
       "          verbose=5, warm_start=False)"
      ]
     },
     "execution_count": 234,
     "metadata": {},
     "output_type": "execute_result"
    }
   ],
   "source": [
    "logreg = linear_model.LogisticRegression(verbose=5, #multi_class='multinomial', \n",
    "                                         solver='liblinear', max_iter=100)\n",
    "logreg.fit(xtr,ytr)"
   ]
  },
  {
   "cell_type": "markdown",
   "metadata": {},
   "source": [
    "Now try the new season stats"
   ]
  },
  {
   "cell_type": "code",
   "execution_count": 224,
   "metadata": {},
   "outputs": [],
   "source": [
    "sstat8 = pd.read_csv('2018total.csv',index_col=1)\n",
    "ss8 = sstat8.fillna(0)"
   ]
  },
  {
   "cell_type": "code",
   "execution_count": 225,
   "metadata": {},
   "outputs": [],
   "source": [
    "yts=ss8['Pos']\n",
    "xts=ss8[['FG','FGA','FG%','3P','3PA','3P%','2P','2PA','2P%','eFG%','FT','FTA','FT%','ORB','DRB','TRB','AST','STL','BLK','TOV','PF','PTS▼']]"
   ]
  },
  {
   "cell_type": "code",
   "execution_count": 235,
   "metadata": {},
   "outputs": [
    {
     "name": "stdout",
     "output_type": "stream",
     "text": [
      "Accuaracy = 0.656379\n"
     ]
    }
   ],
   "source": [
    "yhat = logreg.predict(xtr)\n",
    "acc = np.mean(yhat == ytr)\n",
    "print('Accuaracy = {0:f}'.format(acc))"
   ]
  },
  {
   "cell_type": "markdown",
   "metadata": {},
   "source": [
    "Now we run the optimizer.  I have placed the `verbose=10` option so that you can see the progress.  It may not appear in the browser but in the command line where you launched jupyter notebook.  This can take several minutes and will likely say that it ran out of iterations."
   ]
  },
  {
   "cell_type": "code",
   "execution_count": 238,
   "metadata": {},
   "outputs": [
    {
     "name": "stdout",
     "output_type": "stream",
     "text": [
      "The number of mismatch is 167\n",
      "DeMar DeRozan\\derozde01\n",
      "true=SG est=SF\n",
      "LeBron James\\jamesle01\n",
      "true=SF est=C\n",
      "Andrew Wiggins\\wiggian01\n",
      "true=SF est=SG\n",
      "Giannis Antetokounmpo\\antetgi01\n",
      "true=SF est=C\n",
      "Carmelo Anthony\\anthoca01\n",
      "true=SF est=SG\n",
      "Harrison Barnes\\barneha02\n",
      "true=PF est=SG\n",
      "Tobias Harris\\harrito02\n",
      "true=PF est=SF\n",
      "Blake Griffin\\griffbl01\n",
      "true=PF est=SF\n",
      "Paul Millsap\\millspa01\n",
      "true=PF est=SF\n",
      "LaMarcus Aldridge\\aldrila01\n",
      "true=PF est=C\n"
     ]
    }
   ],
   "source": [
    "nprt = 10\n",
    "Ierr = np.where(ytr != yhat)[0]\n",
    "print(\"The number of mismatch is\",Ierr.shape[0])\n",
    "for i in range(nprt):              \n",
    "    ind = Ierr[i]    \n",
    "    print(xtr.index[ind])  \n",
    "    title = 'true={0:s} est={1:s}'.format(ytr[ind], yhat[ind])\n",
    "    print(title)"
   ]
  },
  {
   "cell_type": "markdown",
   "metadata": {
    "collapsed": true
   },
   "source": [
    "Before continuing, since it takes so long to run the optimizer, let's save the results in a file.  You can use `pickle` module for this purpose."
   ]
  },
  {
   "cell_type": "code",
   "execution_count": 298,
   "metadata": {},
   "outputs": [
    {
     "name": "stdout",
     "output_type": "stream",
     "text": [
      "0.7142857142857143\n",
      "0.39325842696629215\n",
      "0.845360824742268\n",
      "0.41237113402061853\n",
      "0.8865979381443299\n",
      "[[ 0.887  0.072  0.     0.     0.022  0.019]\n",
      " [ 0.309  0.412  0.     0.01   0.18   0.095]\n",
      " [ 0.     0.     1.     0.     0.     0.   ]\n",
      " [ 0.01   0.031  0.     0.845  0.022  0.086]\n",
      " [ 0.052  0.196  0.     0.031  0.393  0.257]\n",
      " [ 0.021  0.041  0.     0.155  0.101  0.714]]\n"
     ]
    },
    {
     "data": {
      "text/plain": [
       "<matplotlib.text.Text at 0x1c6d1286dd8>"
      ]
     },
     "execution_count": 298,
     "metadata": {},
     "output_type": "execute_result"
    },
    {
     "data": {
      "image/png": "[encoded data removed]",
      "text/plain": [
       "<matplotlib.figure.Figure at 0x1c6d14c3cc0>"
      ]
     },
     "metadata": {},
     "output_type": "display_data"
    }
   ],
   "source": [
    "#print(ytr_names)\n",
    "from sklearn.metrics import confusion_matrix\n",
    "C = confusion_matrix(ytr,yhat)\n",
    "a=np.where((ytr=='SG')&(yhat=='SG'))[0]\n",
    "b=np.where((ytr=='SG'))[0]\n",
    "print(a.shape[0]/b.shape[0])\n",
    "a=np.where((ytr=='SF')&(yhat=='SF'))[0]\n",
    "b=np.where((ytr=='SF'))[0]\n",
    "print(a.shape[0]/b.shape[0])\n",
    "a=np.where((ytr=='PG')&(yhat=='PG'))[0]\n",
    "b=np.where((ytr=='PG'))[0]\n",
    "print(a.shape[0]/b.shape[0])\n",
    "a=np.where((ytr=='PF')&(yhat=='PF'))[0]\n",
    "b=np.where((ytr=='PF'))[0]\n",
    "print(a.shape[0]/b.shape[0])\n",
    "a=np.where((ytr=='C')&(yhat=='C'))[0]\n",
    "b=np.where((ytr=='C'))[0]\n",
    "print(a.shape[0]/b.shape[0])\n",
    "# Normalize the confusion matrix\n",
    "Csum = np.sum(C,1)\n",
    "C = C / Csum[None,:]\n",
    "\n",
    "# Print the confusion matrix\n",
    "print(np.array_str(C, precision=3, suppress_small=True))\n",
    "plt.imshow(C, interpolation='none')\n",
    "x=[0,1,2,3,4,5]\n",
    "y=[0,1,2,3,4,5]\n",
    "ygroup_labels = ['C', 'PF','?','PG','SF','SG']  \n",
    "xgroup_labels = ['C', 'PF','?','PG','SF','SG'] \n",
    "plt.xticks(x, xgroup_labels, rotation=90)  \n",
    "plt.yticks(y, ygroup_labels, rotation=0)\n",
    "plt.colorbar()\n",
    "plt.ylabel('True label')\n",
    "plt.xlabel('Predicted label')"
   ]
  },
  {
   "cell_type": "markdown",
   "metadata": {},
   "source": [
    "Then, we can recover the objects via the `pickle.load` command"
   ]
  },
  {
   "cell_type": "code",
   "execution_count": 296,
   "metadata": {},
   "outputs": [
    {
     "data": {
      "text/plain": [
       "<matplotlib.colorbar.Colorbar at 0x1c6d1382a20>"
      ]
     },
     "execution_count": 296,
     "metadata": {},
     "output_type": "execute_result"
    },
    {
     "data": {
      "image/png": "[encoded data removed]",
      "text/plain": [
       "<matplotlib.figure.Figure at 0x1c6d1255278>"
      ]
     },
     "metadata": {},
     "output_type": "display_data"
    }
   ],
   "source": [
    "W = logreg.coef_\n",
    "x=[0,1,2,3,4,5,6,7,8,9,10,11,12,13,14,15,16,17,18,19,20,21]\n",
    "y=[0,1,2,3,4,5]\n",
    "ygroup_labels = ['C', 'PF','?','PG','SF','SG']  \n",
    "xgroup_labels = ['FG','FGA','FG%','3P','3PA','3P%','2P','2PA','2P%','eFG%','FT','FTA','FT%','ORB','DRB','TRB','AST','STL','BLK','TOV','PF','PTS▼']  \n",
    "plt.xticks(x, xgroup_labels, rotation=90)  \n",
    "plt.yticks(y, ygroup_labels, rotation=0)  \n",
    "#print(W)\n",
    "plt.imshow(W, interpolation='none')\n",
    "plt.colorbar()"
   ]
  },
  {
   "cell_type": "markdown",
   "metadata": {},
   "source": [
    "Now, we can measure the accuracy on the test data."
   ]
  },
  {
   "cell_type": "code",
   "execution_count": 299,
   "metadata": {},
   "outputs": [],
   "source": [
    "from sklearn import svm\n",
    "\n",
    "# Create a classifier: a support vector classifier\n",
    "svc = svm.SVC(probability=False,  kernel=\"rbf\", C=2.8, gamma=.0073,verbose=10)"
   ]
  },
  {
   "cell_type": "markdown",
   "metadata": {},
   "source": [
    "You should get an accuracy of around 86%.  This may sounds OK, but it is actually very poor.  Had we increased the number of training samples, it would have improved to about 92%, but that is still very bad.  To illustrate, let's plot some of the errors.  "
   ]
  },
  {
   "cell_type": "code",
   "execution_count": 302,
   "metadata": {},
   "outputs": [
    {
     "name": "stdout",
     "output_type": "stream",
     "text": [
      "[LibSVM]Accuaracy = 0.995885\n"
     ]
    }
   ],
   "source": [
    "svc.fit(xtr,ytr)\n",
    "yhat_tr = svc.predict(xtr)\n",
    "acc = np.mean(yhat_tr == ytr)\n",
    "print('Accuaracy = {0:f}'.format(acc))"
   ]
  },
  {
   "cell_type": "markdown",
   "metadata": {},
   "source": [
    "Obviously, some of these digits are very easy to classify for a human.  We can get more fine-grained analysis of the digit errors by computing the confusion matrix."
   ]
  },
  {
   "cell_type": "code",
   "execution_count": 307,
   "metadata": {},
   "outputs": [
    {
     "name": "stdout",
     "output_type": "stream",
     "text": [
      "The number of mismatch is 2\n",
      "John Lucas III\\lucasjo02\n",
      "true=PG est=SG\n",
      "Ben Bentil\\bentibe01\n",
      "true=PF est=SG\n"
     ]
    }
   ],
   "source": [
    "Ierr = np.where(yhat_tr != ytr)[0]\n",
    "nprt = 2\n",
    "print(\"The number of mismatch is\",Ierr.shape[0])\n",
    "for i in range(nprt):              \n",
    "    ind = Ierr[i]    \n",
    "    print(xtr.index[ind])  \n",
    "    title = 'true={0:s} est={1:s}'.format(ytr[ind], yhat_tr[ind])\n",
    "    print(title)"
   ]
  },
  {
   "cell_type": "markdown",
   "metadata": {},
   "source": [
    "## Visualizing the Weights\n",
    "\n",
    "To see the problem with the logistic classifier, it is useful to plot the weights for each digit.  "
   ]
  },
  {
   "cell_type": "code",
   "execution_count": 309,
   "metadata": {},
   "outputs": [
    {
     "name": "stdout",
     "output_type": "stream",
     "text": [
      "Accuaracy = 0.266094\n"
     ]
    }
   ],
   "source": [
    "yhat_ts = svc.predict(xts)\n",
    "acc = np.mean(yhat_ts == yts)\n",
    "print('Accuaracy = {0:f}'.format(acc))"
   ]
  },
  {
   "cell_type": "markdown",
   "metadata": {},
   "source": [
    "What you see is that each weight is a very blurry version of the digit.  The blurriness is due to the fact that weight must correlate with all shifts, rotations and other variations of the digits.  As a result, the weights begin to correlate with other incorrect digits leading to poor performance."
   ]
  },
  {
   "cell_type": "markdown",
   "metadata": {},
   "source": [
    "## Run an SVM classifier\n",
    "\n",
    "We now try an SVM classifier.  The parameters are given by \n",
    "\n",
    "https://martin-thoma.com/svm-with-sklearn/\n",
    "\n",
    "This website has a nice summary of the main equations for SVM as well.  That site trained on 40000 samples and tested on 20000.  But, to make this run faster, we will train on 10000 and test on 10000.  If you increase to 40000 training samples, you can get past 99% accuracy.\n",
    "\n",
    "First, we import the SVM package and construct the SVC with the parameters."
   ]
  },
  {
   "cell_type": "code",
   "execution_count": 311,
   "metadata": {},
   "outputs": [
    {
     "name": "stdout",
     "output_type": "stream",
     "text": [
      "The number of mismatch is 342\n",
      "LeBron James\\jamesle01\n",
      "true=PF est=SG\n",
      "DeMarcus Cousins\\couside01\n",
      "true=C est=SG\n",
      "Giannis Antetokounmpo\\antetgi01\n",
      "true=PF est=SG\n",
      "Damian Lillard\\lillada01\n",
      "true=PG est=SG\n",
      "Kyrie Irving\\irvinky01\n",
      "true=PG est=SG\n",
      "Russell Westbrook\\westbru01\n",
      "true=PG est=SG\n",
      "Anthony Davis\\davisan02\n",
      "true=PF est=SG\n",
      "LaMarcus Aldridge\\aldrila01\n",
      "true=PF est=SG\n",
      "Kevin Durant\\duranke01\n",
      "true=SF est=SG\n",
      "Kristaps Porzingis\\porzikr01\n",
      "true=PF est=SG\n",
      "Stephen Curry\\curryst01\n",
      "true=PG est=SG\n",
      "Karl-Anthony Towns\\townska01\n",
      "true=C est=SG\n",
      "Kemba Walker\\walkeke02\n",
      "true=PG est=SG\n",
      "T.J. Warren\\warretj01\n",
      "true=SF est=SG\n",
      "Joel Embiid\\embiijo01\n",
      "true=C est=SG\n",
      "Khris Middleton\\middlkh01\n",
      "true=SF est=SG\n",
      "Kevin Love\\loveke01\n",
      "true=C est=SG\n",
      "Jrue Holiday\\holidjr01\n",
      "true=PG est=SG\n",
      "Marc Gasol\\gasolma01\n",
      "true=C est=SG\n",
      "Andrew Wiggins\\wiggian01\n",
      "true=SF est=SG\n",
      "Harrison Barnes\\barneha02\n",
      "true=PF est=SG\n",
      "Paul George\\georgpa01\n",
      "true=SF est=SG\n",
      "Dennis Schroder\\schrode01\n",
      "true=PG est=SG\n",
      "Nikola Vucevic\\vucevni01\n",
      "true=C est=SG\n",
      "Tobias Harris\\harrito02\n",
      "true=PF est=SG\n",
      "Carmelo Anthony\\anthoca01\n",
      "true=SF est=SG\n",
      "Evan Fournier\\fournev01\n",
      "true=SF est=SG\n",
      "Aaron Gordon\\gordoaa01\n",
      "true=PF est=SG\n",
      "Goran Dragic\\dragigo01\n",
      "true=PG est=SG\n",
      "Ben Simmons\\simmobe01\n",
      "true=PG est=SG\n",
      "Dwight Howard\\howardw01\n",
      "true=C est=SG\n",
      "Blake Griffin\\griffbl01\n",
      "true=PF est=SG\n",
      "Reggie Jackson\\jacksre01\n",
      "true=PG est=SG\n",
      "Brandon Ingram\\ingrabr01\n",
      "true=SF est=SG\n",
      "Jamal Murray\\murraja01\n",
      "true=PG est=SG\n",
      "Kyle Lowry\\lowryky01\n",
      "true=PG est=SG\n",
      "Jaylen Brown\\brownja02\n",
      "true=SF est=SG\n",
      "Kyle Kuzma\\kuzmaky01\n",
      "true=PF est=SG\n",
      "Jayson Tatum\\tatumja01\n",
      "true=SF est=SG\n",
      "Bojan Bogdanovic\\bogdabo02\n",
      "true=SF est=SG\n",
      "Otto Porter\\porteot01\n",
      "true=SF est=SG\n",
      "Andre Drummond\\drumman01\n",
      "true=C est=SG\n",
      "Al Horford\\horfoal01\n",
      "true=C est=SG\n",
      "Zach Randolph\\randoza01\n",
      "true=PF est=SG\n",
      "Robert Covington\\covinro01\n",
      "true=PF est=SG\n",
      "Thaddeus Young\\youngth01\n",
      "true=PF est=SG\n",
      "Robin Lopez\\lopezro01\n",
      "true=C est=SG\n",
      "Jusuf Nurkic\\nurkiju01\n",
      "true=C est=SG\n",
      "Taurean Waller-Prince\\princta02\n",
      "true=SF est=SG\n",
      "Clint Capela\\capelca01\n",
      "true=C est=SG\n",
      "Lauri Markkanen\\markkla01\n",
      "true=PF est=SG\n",
      "Rondae Hollis-Jefferson\\holliro01\n",
      "true=SF est=SG\n",
      "J.J. Barea\\bareajo01\n",
      "true=PG est=SG\n",
      "John Wall\\walljo01\n",
      "true=PG est=SG\n",
      "Brook Lopez\\lopezbr01\n",
      "true=C est=SG\n",
      "Derrick Favors\\favorde01\n",
      "true=PF est=SG\n",
      "Eric Bledsoe\\bledser01\n",
      "true=PG est=SG\n",
      "Ricky Rubio\\rubiori01\n",
      "true=PG est=SG\n",
      "Steven Adams\\adamsst01\n",
      "true=C est=SG\n",
      "Serge Ibaka\\ibakase01\n",
      "true=PF est=SG\n",
      "Spencer Dinwiddie\\dinwisp01\n",
      "true=PG est=SG\n",
      "Rudy Gay\\gayru01\n",
      "true=SF est=SG\n",
      "Jeff Teague\\teaguje01\n",
      "true=PG est=SG\n",
      "Nikola Jokic\\jokicni01\n",
      "true=C est=SG\n",
      "Julius Randle\\randlju01\n",
      "true=C est=SG\n",
      "Darren Collison\\collida01\n",
      "true=PG est=SG\n",
      "Enes Kanter\\kanteen01\n",
      "true=C est=SG\n",
      "DeMarre Carroll\\carrode01\n",
      "true=SF est=SG\n",
      "Dennis Smith\\smithde03\n",
      "true=PG est=SG\n",
      "Malcolm Brogdon\\brogdma01\n",
      "true=PG est=SG\n",
      "Dirk Nowitzki\\nowitdi01\n",
      "true=C est=SG\n",
      "Kelly Oubre\\oubreke01\n",
      "true=SF est=SG\n",
      "Mike James\\jamesmi02\n",
      "true=PG est=SG\n",
      "Domantas Sabonis\\sabondo01\n",
      "true=C est=SG\n",
      "Dario Saric\\saricda01\n",
      "true=PF est=SG\n",
      "Taj Gibson\\gibsota01\n",
      "true=PF est=SG\n",
      "Myles Turner\\turnemy01\n",
      "true=C est=SG\n",
      "Caris LeVert\\leverca01\n",
      "true=SF est=SG\n",
      "Kris Dunn\\dunnkr01\n",
      "true=PG est=SG\n",
      "Jeff Green\\greenje02\n",
      "true=PF est=SG\n",
      "Joe Ingles\\inglejo01\n",
      "true=SF est=SG\n",
      "Ryan Anderson\\anderry01\n",
      "true=PF est=SG\n",
      "James Johnson\\johnsja01\n",
      "true=PF est=SG\n",
      "Pau Gasol\\gasolpa01\n",
      "true=C est=SG\n",
      "DeAndre Jordan\\jordade01\n",
      "true=C est=SG\n",
      "Trevor Ariza\\arizatr01\n",
      "true=SF est=SG\n",
      "Tyler Johnson\\johnsty01\n",
      "true=PG est=SG\n",
      "Josh Richardson\\richajo01\n",
      "true=SF est=SG\n",
      "Patty Mills\\millspa02\n",
      "true=PG est=SG\n",
      "Emmanuel Mudiay\\mudiaem01\n",
      "true=PG est=SG\n",
      "Terry Rozier\\roziete01\n",
      "true=PG est=SG\n",
      "De'Aaron Fox\\foxde01\n",
      "true=PG est=SG\n",
      "Josh Jackson\\jacksjo02\n",
      "true=SF est=SG\n",
      "Marcin Gortat\\gortama01\n",
      "true=C est=SG\n",
      "Marvin Williams\\willima02\n",
      "true=PF est=SG\n",
      "Kelly Olynyk\\olynyke01\n",
      "true=PF est=SG\n",
      "Frank Kaminsky\\kaminfr01\n",
      "true=PF est=SG\n",
      "John Collins\\collijo01\n",
      "true=PF est=SG\n",
      "Willie Cauley-Stein\\caulewi01\n",
      "true=C est=SG\n",
      "Jonas Valanciunas\\valanjo01\n",
      "true=C est=SG\n",
      "Jae Crowder\\crowdja01\n",
      "true=SF est=SG\n",
      "Draymond Green\\greendr01\n",
      "true=PF est=SG\n",
      "Ish Smith\\smithis01\n",
      "true=PG est=SG\n",
      "D'Angelo Russell\\russeda01\n",
      "true=PG est=SG\n",
      "Bobby Portis\\portibo01\n",
      "true=PF est=SG\n",
      "Paul Millsap\\millspa01\n",
      "true=PF est=SG\n",
      "Lonzo Ball\\balllo01\n",
      "true=PG est=SG\n",
      "Tyler Ulis\\ulisty01\n",
      "true=PG est=SG\n",
      "Jerian Grant\\grantje02\n",
      "true=PG est=SG\n",
      "Wilson Chandler\\chandwi01\n",
      "true=SF est=SG\n",
      "George Hill\\hillge01\n",
      "true=PG est=SG\n",
      "Doug McDermott\\mcderdo01\n",
      "true=SF est=SG\n",
      "Darius Miller\\milleda01\n",
      "true=SF est=SG\n",
      "Mike Scott\\scottmi01\n",
      "true=PF est=SG\n",
      "C.J. Miles\\milescj01\n",
      "true=SF est=SG\n",
      "Trevor Booker\\booketr01\n",
      "true=PF est=SG\n",
      "Alex Len\\lenal01\n",
      "true=C est=SG\n",
      "Elfrid Payton\\paytoel01\n",
      "true=PG est=SG\n",
      "Hassan Whiteside\\whiteha01\n",
      "true=C est=SG\n",
      "Michael Kidd-Gilchrist\\kiddgmi01\n",
      "true=SF est=SG\n",
      "Chris Paul\\paulch01\n",
      "true=PG est=SG\n",
      "Dewayne Dedmon\\dedmode01\n",
      "true=C est=SG\n",
      "Dillon Brooks\\brookdi01\n",
      "true=SF est=SG\n",
      "Evan Turner\\turneev01\n",
      "true=SF est=SG\n",
      "Cory Joseph\\josepco01\n",
      "true=PG est=SG\n",
      "Chandler Parsons\\parsoch01\n",
      "true=SF est=SG\n",
      "Mario Chalmers\\chalmma01\n",
      "true=PG est=SG\n",
      "Jerami Grant\\grantje01\n",
      "true=PF est=SG\n",
      "Thabo Sefolosha\\sefolth01\n",
      "true=SF est=SG\n",
      "Rudy Gobert\\goberru01\n",
      "true=C est=SG\n",
      "Mike Conley\\conlemi01\n",
      "true=PG est=SG\n",
      "Markieff Morris\\morrima02\n",
      "true=PF est=SG\n",
      "Kyle Anderson\\anderky01\n",
      "true=SF est=SG\n",
      "Devin Harris\\harride01\n",
      "true=PG est=SG\n",
      "John Henson\\hensojo01\n",
      "true=C est=SG\n",
      "D.J. Augustin\\augusdj01\n",
      "true=PG est=SG\n",
      "Marcus Morris\\morrima03\n",
      "true=SF est=SG\n",
      "Skal Labissiere\\labissk01\n",
      "true=PF est=SG\n",
      "Mason Plumlee\\plumlma01\n",
      "true=C est=SG\n",
      "Michael Beasley\\beaslmi01\n",
      "true=PF est=SG\n",
      "Luke Babbitt\\babbilu01\n",
      "true=SF est=SG\n",
      "Marquese Chriss\\chrisma01\n",
      "true=PF est=SG\n",
      "Jakob Poeltl\\poeltja01\n",
      "true=C est=SG\n",
      "James Ennis\\ennisja01\n",
      "true=SF est=SG\n",
      "Wesley Johnson\\johnswe01\n",
      "true=SF est=SG\n",
      "David West\\westda01\n",
      "true=C est=SG\n",
      "Aron Baynes\\baynear01\n",
      "true=C est=SG\n",
      "Raymond Felton\\feltora01\n",
      "true=PG est=SG\n",
      "Dejounte Murray\\murrade01\n",
      "true=PG est=SG\n",
      "Stanley Johnson\\johnsst04\n",
      "true=SF est=SG\n",
      "Trey Lyles\\lylestr01\n",
      "true=PF est=SG\n",
      "Justise Winslow\\winslju01\n",
      "true=SF est=SG\n",
      "OG Anunoby\\anunoog01\n",
      "true=SF est=SG\n",
      "Kyle O'Quinn\\oquinky01\n",
      "true=C est=SG\n",
      "Anthony Tolliver\\tollian01\n",
      "true=PF est=SG\n",
      "Dwight Powell\\poweldw01\n",
      "true=C est=SG\n",
      "Greg Monroe\\monrogr01\n",
      "true=C est=SG\n",
      "Gorgui Dieng\\dienggo01\n",
      "true=C est=SG\n",
      "Tyler Zeller\\zellety01\n",
      "true=C est=SG\n",
      "JaMychal Green\\greenja01\n",
      "true=PF est=SG\n",
      "Fred VanVleet\\vanvlfr01\n",
      "true=PG est=SG\n",
      "Ersan Ilyasova\\ilyaser01\n",
      "true=PF est=SG\n",
      "Pascal Siakam\\siakapa01\n",
      "true=PF est=SG\n",
      "Frank Mason\\masonfr01\n",
      "true=PG est=SG\n",
      "P.J. Tucker\\tuckepj01\n",
      "true=SF est=SG\n",
      "Kenneth Faried\\farieke01\n",
      "true=PF est=SG\n",
      "Dante Cunningham\\cunnida01\n",
      "true=SF est=SG\n",
      "Timothe Luwawu-Cabarrot\\luwawti01\n",
      "true=SF est=SG\n",
      "Jarrett Jack\\jackja01\n",
      "true=PG est=SG\n",
      "Luc Mbah a Moute\\mbahalu01\n",
      "true=PF est=SG\n",
      "Shabazz Napier\\napiesh01\n",
      "true=PG est=SG\n",
      "Jonas Jerebko\\jerebjo01\n",
      "true=PF est=SG\n",
      "Omri Casspi\\casspom01\n",
      "true=SF est=SG\n",
      "Tyson Chandler\\chandty01\n",
      "true=C est=SG\n",
      "Andrew Harrison\\harrian01\n",
      "true=PG est=SG\n",
      "Marreese Speights\\speigma01\n",
      "true=C est=SG\n",
      "Al-Farouq Aminu\\aminual01\n",
      "true=PF est=SG\n",
      "Jameer Nelson\\nelsoja01\n",
      "true=PG est=SG\n",
      "Andre Iguodala\\iguodan01\n",
      "true=SF est=SG\n",
      "Dragan Bender\\bendedr01\n",
      "true=PF est=SG\n",
      "T.J. McConnell\\mccontj01\n",
      "true=PG est=SG\n",
      "Danilo Gallinari\\gallida01\n",
      "true=SF est=SG\n",
      "Frank Ntilikina\\ntilila01\n",
      "true=PG est=SG\n",
      "Nene Hilario\\hilarne01\n",
      "true=C est=SG\n",
      "Kosta Koufos\\koufoko01\n",
      "true=C est=SG\n",
      "Larry Nance\\nancela02\n",
      "true=PF est=SG\n",
      "Cody Zeller\\zelleco01\n",
      "true=C est=SG\n",
      "Ed Davis\\davised01\n",
      "true=PF est=SG\n",
      "Shaun Livingston\\livinsh01\n",
      "true=PG est=SG\n",
      "Nemanja Bjelica\\bjeline01\n",
      "true=PF est=SG\n",
      "Bismack Biyombo\\biyombi01\n",
      "true=C est=SG\n",
      "Montrezl Harrell\\harremo01\n",
      "true=C est=SG\n",
      "Daniel Theis\\theisda01\n",
      "true=C est=SG\n",
      "Zaza Pachulia\\pachuza01\n",
      "true=C est=SG\n",
      "Maxi Kleber\\klebima01\n",
      "true=PF est=SG\n",
      "Isaiah Taylor\\taylois01\n",
      "true=PG est=SG\n",
      "Maurice Harkless\\harklma01\n",
      "true=SF est=SG\n",
      "Andre Roberson\\roberan03\n",
      "true=SF est=SG\n",
      "Rajon Rondo\\rondora01\n",
      "true=PG est=SG\n",
      "Bam Adebayo\\adebaba01\n",
      "true=C est=SG\n",
      "Thon Maker\\makerth01\n",
      "true=C est=SG\n",
      "Channing Frye\\fryech01\n",
      "true=C est=SG\n",
      "Tyus Jones\\jonesty01\n",
      "true=PG est=SG\n",
      "Justin Jackson\\jacksju01\n",
      "true=SF est=SG\n",
      "Quincy Acy\\acyqu01\n",
      "true=PF est=SG\n",
      "Delon Wright\\wrighde01\n",
      "true=PG est=SG\n",
      "Willie Reed\\reedwi02\n",
      "true=C est=SG\n",
      "Amir Johnson\\johnsam01\n",
      "true=C est=SG\n",
      "Lance Thomas\\thomala01\n",
      "true=PF est=SG\n",
      "Jarell Martin\\martija01\n",
      "true=PF est=SG\n",
      "Tim Frazier\\fraziti01\n",
      "true=PG est=SG\n",
      "Malcolm Delaney\\delanma01\n",
      "true=PG est=SG\n",
      "Davis Bertans\\bertada01\n",
      "true=PF est=SG\n",
      "Tyler Cavanaugh\\cavanty01\n",
      "true=PF est=SG\n",
      "Ian Mahinmi\\mahinia01\n",
      "true=C est=SG\n",
      "Jordan Bell\\belljo01\n",
      "true=C est=SG\n",
      "Nikola Mirotic\\mirotni01\n",
      "true=PF est=SG\n",
      "Derrick Rose\\rosede01\n",
      "true=PG est=SG\n",
      "Richaun Holmes\\holmeri01\n",
      "true=C est=SG\n",
      "Shelvin Mack\\macksh01\n",
      "true=PG est=SG\n",
      "Jarrett Allen\\allenja01\n",
      "true=C est=PF\n",
      "Timofey Mozgov\\mozgoti01\n",
      "true=C est=SG\n",
      "Paul Zipser\\zipsepa01\n",
      "true=SF est=SG\n",
      "Noah Vonleh\\vonleno01\n",
      "true=PF est=SG\n",
      "Sam Dekker\\dekkesa01\n",
      "true=SF est=SG\n",
      "Shabazz Muhammad\\muhamsh01\n",
      "true=SF est=SG\n",
      "JaVale McGee\\mcgeeja01\n",
      "true=C est=SG\n",
      "Jose Calderon\\caldejo01\n",
      "true=PG est=SG\n",
      "Brandan Wright\\wrighbr03\n",
      "true=PF est=SG\n",
      "Cristiano Felicio\\feliccr01\n",
      "true=C est=SG\n",
      "Shane Larkin\\larkish01\n",
      "true=PG est=SG\n",
      "Raul Neto\\netora01\n",
      "true=PG est=SG\n",
      "T.J. Leaf\\leaftj01\n",
      "true=PF est=SG\n",
      "Patrick Patterson\\pattepa01\n",
      "true=PF est=SG\n",
      "DeAndre' Bembry\\bembrde01\n",
      "true=SF est=SG\n",
      "Michael Carter-Williams\\cartemi01\n",
      "true=PG est=SG\n",
      "Semi Ojeleye\\ojelese01\n",
      "true=PF est=SG\n",
      "Isaiah Whitehead\\whiteis01\n",
      "true=PG est=SG\n",
      "Willy Hernangomez\\hernawi01\n",
      "true=C est=SG\n",
      "Jonathan Isaac\\isaacjo01\n",
      "true=PF est=SG\n",
      "Nerlens Noel\\noelne01\n",
      "true=C est=SG\n",
      "Al Jefferson\\jeffeal01\n",
      "true=C est=SG\n",
      "Matthew Dellavedova\\dellama01\n",
      "true=PG est=SG\n",
      "Mirza Teletovic\\teletmi01\n",
      "true=PF est=SG\n",
      "Ekpe Udoh\\udohek01\n",
      "true=C est=SG\n",
      "Corey Brewer\\breweco01\n",
      "true=SF est=SG\n",
      "Salah Mejri\\mejrisa01\n",
      "true=C est=SG\n",
      "Joffrey Lauvergne\\lauvejo01\n",
      "true=C est=SG\n",
      "Lucas Nogueira\\noguelu01\n",
      "true=C est=SG\n",
      "Josh Huestis\\huestjo01\n",
      "true=PF est=SG\n",
      "Mike Muscala\\muscami01\n",
      "true=C est=PF\n",
      "Reggie Bullock\\bullore01\n",
      "true=SF est=SG\n",
      "Arron Afflalo\\afflaar01\n",
      "true=SG est=PF\n",
      "Juan Hernangomez\\hernaju01\n",
      "true=PF est=SG\n",
      "Boban Marjanovic\\marjabo01\n",
      "true=C est=SG\n",
      "Jared Dudley\\dudleja01\n",
      "true=PF est=SG\n",
      "Damyean Dotson\\dotsoda01\n",
      "true=SG est=PF\n",
      "Jamil Wilson\\wilsoja02\n",
      "true=SF est=SG\n",
      "Royce O'Neale\\onealro01\n",
      "true=SF est=PF\n",
      "C.J. Williams\\willicj01\n",
      "true=SG est=PF\n",
      "Joe Johnson\\johnsjo02\n",
      "true=SF est=PF\n",
      "Henry Ellenson\\ellenhe01\n",
      "true=PF est=SF\n",
      "Quincy Pondexter\\pondequ01\n",
      "true=SF est=SG\n",
      "Jason Smith\\smithja02\n",
      "true=C est=PF\n",
      "Cedi Osman\\osmande01\n",
      "true=SF est=SG\n",
      "Miles Plumlee\\plumlmi01\n",
      "true=C est=PF\n",
      "Milos Teodosic\\teodomi01\n",
      "true=PG est=SG\n",
      "Aaron Brooks\\brookaa01\n",
      "true=PG est=SF\n",
      "Eric Moreland\\moreler01\n",
      "true=PF est=SG\n",
      "Zach Collins\\colliza01\n",
      "true=C est=PF\n",
      "JaKarr Sampson\\sampsja02\n",
      "true=SF est=C\n",
      "Quinn Cook\\cookqu01\n",
      "true=PG est=SF\n",
      "Nik Stauskas\\stausni01\n",
      "true=SG est=SF\n",
      "Wesley Iwundu\\iwundwe01\n",
      "true=SF est=PF\n",
      "Dorian Finney-Smith\\finnedo01\n",
      "true=PF est=SG\n",
      "Gary Payton\\paytoga02\n",
      "true=PG est=PF\n",
      "Kawhi Leonard\\leonaka01\n",
      "true=SF est=PF\n",
      "Markelle Fultz\\fultzma01\n",
      "true=SG est=PG\n",
      "Jordan Mickey\\mickejo01\n",
      "true=PF est=C\n",
      "Abdel Nader\\naderab01\n",
      "true=SF est=SG\n",
      "Tyler Dorsey\\dorsety01\n",
      "true=SG est=SF\n",
      "Jake Layman\\laymaja01\n",
      "true=SF est=SG\n",
      "Okaro White\\whiteok01\n",
      "true=PF est=SF\n",
      "Gian Clavell\\clavegi01\n",
      "true=SG est=SF\n",
      "Guerschon Yabusele\\yabusgu01\n",
      "true=PF est=SF\n",
      "Jeremy Lin\\linje01\n",
      "true=PG est=SF\n",
      "Andrew Bogut\\bogutan01\n",
      "true=C est=SG\n",
      "Jordan Crawford\\crawfjo02\n",
      "true=SG est=SF\n",
      "Zhou Qi\\qizh01\n",
      "true=C est=SF\n",
      "Georgios Papagiannis\\papagge01\n",
      "true=C est=PF\n",
      "Jason Terry\\terryja01\n",
      "true=SG est=SF\n",
      "Jeff Withey\\witheje01\n",
      "true=C est=PF\n",
      "Brice Johnson\\johnsbr02\n",
      "true=PF est=C\n",
      "Sterling Brown\\brownst02\n",
      "true=SG est=SF\n",
      "Richard Jefferson\\jefferi01\n",
      "true=SF est=PG\n",
      "Antonius Cleveland\\clevean01\n",
      "true=SG est=C\n",
      "Derrick White\\whitede01\n",
      "true=PG est=C\n",
      "Joel Bolomboy\\bolomjo01\n",
      "true=PF est=C\n",
      "Derrick Jones\\jonesde02\n",
      "true=SF est=PG\n",
      "Furkan Korkmaz\\korkmfu01\n",
      "true=SG est=PF\n",
      "Marcus Georges-Hunt\\georgma01\n",
      "true=SG est=SF\n",
      "Nick Collison\\collini01\n",
      "true=PF est=C\n",
      "Demetrius Jackson\\jacksde01\n",
      "true=PG est=SG\n",
      "Wayne Selden\\seldewa01\n",
      "true=SG est=PG\n",
      "Torrey Craig\\craigto01\n",
      "true=SF est=SG\n",
      "Alex Poythress\\poythal01\n",
      "true=PF est=SG\n",
      "Troy Williams\\willitr02\n",
      "true=SF est=SG\n",
      "Jalen Jones\\jonesja04\n",
      "true=SF est=SG\n",
      "James Michael McAdoo\\mcadoja01\n",
      "true=PF est=SG\n",
      "Johnathan Motley\\motlejo01\n",
      "true=PF est=SG\n",
      "Jacob Wiley\\wileyja01\n",
      "true=PF est=SG\n",
      "Tony Bradley\\bradlto01\n",
      "true=C est=SG\n",
      "Lorenzo Brown\\brownlo01\n",
      "true=PG est=SG\n",
      "Vince Hunter\\huntevi01\n",
      "true=PF est=C\n",
      "Darrun Hilliard\\hillida01\n",
      "true=SG est=PG\n",
      "Cole Aldrich\\aldrico01\n",
      "true=C est=SG\n",
      "John Holland\\hollajo02\n",
      "true=SF est=SG\n",
      "Alec Peters\\peteral01\n",
      "true=PF est=SG\n",
      "Derrick Walton\\waltode01\n",
      "true=PG est=SG\n",
      "Jack Cooley\\cooleja01\n",
      "true=PF est=SG\n",
      "Vander Blue\\blueva01\n",
      "true=SG est=C\n",
      "Alex Caruso\\carusal01\n",
      "true=PG est=SG\n",
      "Luol Deng\\denglu01\n",
      "true=SF est=SG\n",
      "Josh Smith\\smithjo03\n",
      "true=PF est=C\n"
     ]
    }
   ],
   "source": [
    "Ierr = np.where(yhat_ts != yts)[0]\n",
    "nprt = 324\n",
    "print(\"The number of mismatch is\",Ierr.shape[0])\n",
    "for i in range(nprt):              \n",
    "    ind = Ierr[i]    \n",
    "    print(xts.index[ind])  \n",
    "    title = 'true={0:s} est={1:s}'.format(yts[ind], yhat_ts[ind])\n",
    "    print(title)"
   ]
  },
  {
   "cell_type": "markdown",
   "metadata": {},
   "source": [
    "Next, we get the training and test data.  The features are re-scaled to be between -1 and 1."
   ]
  },
  {
   "cell_type": "code",
   "execution_count": null,
   "metadata": {
    "collapsed": true
   },
   "outputs": [],
   "source": []
  },
  {
   "cell_type": "markdown",
   "metadata": {},
   "source": [
    "We fit the training data.  Again, this will take several minutes."
   ]
  },
  {
   "cell_type": "code",
   "execution_count": null,
   "metadata": {},
   "outputs": [],
   "source": [
    "S = svc.support_vectors_\n",
    "S.shape"
   ]
  },
  {
   "cell_type": "markdown",
   "metadata": {},
   "source": [
    "Save the results in case you want them without re-running the above the code."
   ]
  },
  {
   "cell_type": "code",
   "execution_count": null,
   "metadata": {
    "collapsed": true
   },
   "outputs": [],
   "source": []
  },
  {
   "cell_type": "markdown",
   "metadata": {},
   "source": [
    "We can reload the data"
   ]
  },
  {
   "cell_type": "code",
   "execution_count": null,
   "metadata": {
    "collapsed": true
   },
   "outputs": [],
   "source": []
  },
  {
   "cell_type": "markdown",
   "metadata": {},
   "source": [
    "Measure the accuracy on the test data.  The prediction can take several minutes too -- SVMs are *very* slow!"
   ]
  },
  {
   "cell_type": "code",
   "execution_count": null,
   "metadata": {},
   "outputs": [],
   "source": []
  },
  {
   "cell_type": "markdown",
   "metadata": {},
   "source": [
    "You should get an accuracy of around 96%.  Again, had you trained on all 50,000 samples, it would have been much better -- close to 98.5%.  But, even this result is much better than logistic regression.\n",
    "\n",
    "Since even the prediction (sometimes called inference) is slow with SVMs, we will save the results in `pickle` file."
   ]
  },
  {
   "cell_type": "code",
   "execution_count": 41,
   "metadata": {
    "collapsed": true
   },
   "outputs": [],
   "source": [
    "with open(\"mnist_svc_test.p\", \"wb\") as fp:\n",
    "    pickle.dump([yts,yhat_ts,Xts], fp)"
   ]
  },
  {
   "cell_type": "markdown",
   "metadata": {},
   "source": [
    "Instead of running the prediction again, you can recapture the data with the following comamnd"
   ]
  },
  {
   "cell_type": "code",
   "execution_count": 43,
   "metadata": {
    "collapsed": true
   },
   "outputs": [],
   "source": [
    "with open(\"mnist_svc_test.p\", \"rb\") as fp:\n",
    "    yts,yhat1,Xts = pickle.load(fp)"
   ]
  },
  {
   "cell_type": "markdown",
   "metadata": {},
   "source": [
    "Plot some errors"
   ]
  },
  {
   "cell_type": "code",
   "execution_count": 44,
   "metadata": {},
   "outputs": [
    {
     "data": {
      "image/png": "[encoded data removed]",
      "text/plain": [
       "<matplotlib.figure.Figure at 0x1a418080f98>"
      ]
     },
     "metadata": {},
     "output_type": "display_data"
    }
   ],
   "source": [
    "Ierr = np.where((yhat_ts != yts))[0]\n",
    "nplt = 4\n",
    "plt.figure(figsize=(10, 4))\n",
    "for i in range(nplt):        \n",
    "    plt.subplot(1,nplt,i+1)        \n",
    "    ind = Ierr[i]    \n",
    "    plt_digit(Xts[ind,:])        \n",
    "    title = 'true={0:d} est={1:d}'.format(yts[ind].astype(int), yhat1[ind].astype(int))\n",
    "    plt.title(title)"
   ]
  },
  {
   "cell_type": "markdown",
   "metadata": {},
   "source": [
    "We see that again a human would not have made these errors, but the digits in error are much less clear."
   ]
  },
  {
   "cell_type": "markdown",
   "metadata": {},
   "source": [
    "## Looking at the Support Vectors\n",
    "\n",
    "Let's take a look at the support vectors.  We see there about 5000 support vectors.  So, about half the training samples were used as SVs.  This is partly why the prediction was so slow."
   ]
  },
  {
   "cell_type": "code",
   "execution_count": 45,
   "metadata": {},
   "outputs": [
    {
     "data": {
      "text/plain": [
       "(5018, 784)"
      ]
     },
     "execution_count": 45,
     "metadata": {},
     "output_type": "execute_result"
    }
   ],
   "source": [
    "S = svc.support_vectors_\n",
    "S.shape"
   ]
  },
  {
   "cell_type": "markdown",
   "metadata": {
    "collapsed": true
   },
   "source": [
    "We can plot some of the vectors."
   ]
  },
  {
   "cell_type": "code",
   "execution_count": 46,
   "metadata": {},
   "outputs": [
    {
     "data": {
      "image/png": "[encoded data removed]",
      "text/plain": [
       "<matplotlib.figure.Figure at 0x1a418080a20>"
      ]
     },
     "metadata": {},
     "output_type": "display_data"
    }
   ],
   "source": [
    "nplt = 4\n",
    "nsv = S.shape[0]\n",
    "Iperms = np.random.permutation(nsv)\n",
    "plt.figure(figsize=(10, 4))\n",
    "for i in range(nplt):        \n",
    "    plt.subplot(1,nplt,i+1)        \n",
    "    ind = Iperms[i]\n",
    "    plt_digit(S[ind,:])        "
   ]
  },
  {
   "cell_type": "code",
   "execution_count": null,
   "metadata": {
    "collapsed": true
   },
   "outputs": [],
   "source": []
  },
  {
   "cell_type": "code",
   "execution_count": null,
   "metadata": {
    "collapsed": true
   },
   "outputs": [],
   "source": []
  }
 ],
 "metadata": {
  "anaconda-cloud": {},
  "kernelspec": {
   "display_name": "Python 3",
   "language": "python",
   "name": "python3"
  },
  "language_info": {
   "codemirror_mode": {
    "name": "ipython",
    "version": 3
   },
   "file_extension": ".py",
   "mimetype": "text/x-python",
   "name": "python",
   "nbconvert_exporter": "python",
   "pygments_lexer": "ipython3",
   "version": "3.6.1"
  }
 },
 "nbformat": 4,
 "nbformat_minor": 1
}
